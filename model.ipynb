{
 "cells": [
  {
   "cell_type": "code",
   "execution_count": null,
   "metadata": {},
   "outputs": [],
   "source": [
    "!pip install catboost"
   ]
  },
  {
   "cell_type": "code",
   "execution_count": null,
   "metadata": {},
   "outputs": [],
   "source": [
    "# This Python 3 environment comes with many helpful analytics libraries installed\n",
    "# It is defined by the kaggle/python Docker image: https://github.com/kaggle/docker-python\n",
    "# For example, here's several helpful packages to load\n",
    "\n",
    "import numpy as np # linear algebra\n",
    "import pandas as pd # data processing, CSV file I/O (e.g. pd.read_csv)\n",
    "import matplotlib.pyplot as plt\n",
    "import seaborn as sns\n",
    "%matplotlib inline\n",
    "sns.set_style('whitegrid')\n",
    "\n",
    "# Input data files are available in the read-only \"../input/\" directory\n",
    "# For example, running this (by clicking run or pressing Shift+Enter) will list all files under the input directory\n",
    "\n",
    "import os\n",
    "for dirname, _, filenames in os.walk('/kaggle/input'):\n",
    "    for filename in filenames:\n",
    "        print(os.path.join(dirname, filename))\n",
    "\n",
    "# You can write up to 20GB to the current directory (/kaggle/working/) that gets preserved as output when you create a version using \"Save & Run All\"\n",
    "# You can also write temporary files to /kaggle/temp/, but they won't be saved outside of the current session"
   ]
  },
  {
   "cell_type": "code",
   "execution_count": null,
   "metadata": {},
   "outputs": [],
   "source": [
    "from google.colab import drive\n",
    "drive.mount('/content/drive')"
   ]
  },
  {
   "cell_type": "code",
   "execution_count": null,
   "metadata": {},
   "outputs": [],
   "source": [
    "Mental_disorders_path = \"/content/drive/MyDrive/senior project/Mental disorder symptoms.xlsx\"\n",
    "df = pd.read_excel(Mental_disorders_path)"
   ]
  },
  {
   "cell_type": "code",
   "execution_count": null,
   "metadata": {},
   "outputs": [],
   "source": [
    "df.describe()"
   ]
  },
  {
   "cell_type": "code",
   "execution_count": null,
   "metadata": {},
   "outputs": [],
   "source": [
    "a = df.Disorder.unique()\n",
    "a"
   ]
  },
  {
   "cell_type": "code",
   "execution_count": null,
   "metadata": {},
   "outputs": [],
   "source": [
    "df = df.rename(columns={'ag+1:629e':'age'})\n",
    "df = df.rename(columns={'having.trouble.in.sleeping':'trouble.sleeping'})\n",
    "df = df.rename(columns={'having.trouble.with.work':'trouble.with.work'})\n",
    "df = df.rename(columns={'having.nightmares':'nightmares'})\n",
    "\n",
    "df.set_index(['age'])"
   ]
  },
  {
   "cell_type": "code",
   "execution_count": null,
   "metadata": {},
   "outputs": [],
   "source": [
    "# Histogram of Age Profile\n",
    "sns.histplot(df.age, kde=True)"
   ]
  },
  {
   "cell_type": "code",
   "execution_count": null,
   "metadata": {},
   "outputs": [],
   "source": [
    "# Look for incidences of the various symptoms\n",
    "symptom_incidences = df[df.columns[1:27]].sum()"
   ]
  },
  {
   "cell_type": "code",
   "execution_count": null,
   "metadata": {},
   "outputs": [],
   "source": [
    "symptom_incidences.plot.bar(figsize=(12,6), title = 'Incidences of Various Mental Health Symptoms')"
   ]
  },
  {
   "cell_type": "code",
   "execution_count": null,
   "metadata": {},
   "outputs": [],
   "source": [
    "# Get list of unique disorders\n",
    "Disorders = df.Disorder.unique()\n",
    "Disorders\n",
    "# Note that this is reset later, to be given in the order used by the model"
   ]
  },
  {
   "cell_type": "code",
   "execution_count": null,
   "metadata": {},
   "outputs": [],
   "source": [
    "# Correct spelling mistakes\n",
    "df.Disorder = df.Disorder.str.replace('psychotic deprission', 'psychotic depression')\n",
    "df.Disorder = df.Disorder.str.replace('anexiety','anxiety')"
   ]
  },
  {
   "cell_type": "code",
   "execution_count": null,
   "metadata": {},
   "outputs": [],
   "source": [
    "symptoms = list(df.columns) # Likely to be useful later\n",
    "symptoms.remove('age')"
   ]
  },
  {
   "cell_type": "code",
   "execution_count": null,
   "metadata": {},
   "outputs": [],
   "source": [
    "# Sum the total incidences of each diagnosed disorder.\n",
    "incidences = df.Disorder.value_counts()\n",
    "incidences.plot.bar()\n",
    "# This assumes that each person has only one diagnosed disorder, and appears only once in the dataset.\n",
    "# Secondary diagnoses - which are common - are ignored"
   ]
  },
  {
   "cell_type": "code",
   "execution_count": null,
   "metadata": {},
   "outputs": [],
   "source": [
    "# Look for NaN values:\n",
    "df[df.isna().any(axis=1)]\n",
    "# None found"
   ]
  },
  {
   "cell_type": "code",
   "execution_count": null,
   "metadata": {},
   "outputs": [],
   "source": [
    "# Look for any symptom incidence values that are neither 0 or 1\n",
    "errors = df[(df.iloc[:,1:27] > 1).any(axis=1)]\n",
    "errors\n",
    "# None found"
   ]
  },
  {
   "cell_type": "code",
   "execution_count": null,
   "metadata": {},
   "outputs": [],
   "source": [
    "# Reminder before ML starts\n",
    "df.head()"
   ]
  },
  {
   "cell_type": "code",
   "execution_count": null,
   "metadata": {},
   "outputs": [],
   "source": [
    "from sklearn.tree import DecisionTreeRegressor\n",
    "from sklearn.metrics import mean_absolute_error\n",
    "from sklearn.model_selection import train_test_split\n",
    "# X = df.drop(['Disorder'], axis=1)\n",
    "# y = pd.get_dummies(df['Disorder'])\n",
    "# Split the data into training and test sets\n",
    "X = df.iloc[:, 1:27]\n",
    "y = df.Disorder\n",
    "X_train, X_test, y_train, y_test = train_test_split(X, y, test_size=0.3, random_state=42)"
   ]
  },
  {
   "cell_type": "code",
   "execution_count": null,
   "metadata": {},
   "outputs": [],
   "source": [
    "X.columns"
   ]
  },
  {
   "cell_type": "code",
   "execution_count": null,
   "metadata": {},
   "outputs": [],
   "source": [
    "# prompt: import catboost model\n",
    "\n",
    "from catboost import CatBoostClassifier\n",
    "from sklearn.metrics import accuracy_score, classification_report, confusion_matrix, mean_squared_error\n",
    "from sklearn.model_selection import train_test_split\n",
    "\n",
    "\n",
    "# Initialize the CatBoostClassifier model\n",
    "model = CatBoostClassifier(iterations=5000,\n",
    "                         learning_rate=0.05,\n",
    "                         depth=3,\n",
    "                         loss_function='MultiClass',\n",
    "                         eval_metric='Accuracy',\n",
    "                         l2_leaf_reg=1)\n",
    "\n",
    "# Train the model\n",
    "model.fit(X_train, y_train,\n",
    "         cat_features=list(range(len(X.columns))),\n",
    "         verbose=False)\n",
    "\n",
    "# Make predictions on the test set\n",
    "y_pred = model.predict_proba(X_test)\n",
    "y_predd = np.argmax(y_pred, axis=1)\n",
    "\n",
    "##Evaluate the model performance\n",
    "accuracy = accuracy_score(y_test, y_predd)\n",
    "print('Catboost mse:', accuracy)\n",
    "y_pred = y_pred.astype(y_test.dtype)\n",
    "print(confusion_matrix(y_test, y_predd))\n",
    "print(classification_report(y_test, y_predd))\n",
    "\n"
   ]
  },
  {
   "cell_type": "code",
   "execution_count": null,
   "metadata": {},
   "outputs": [],
   "source": [
    "import pickle\n",
    "\n",
    "with open('catboost_model.pkl', 'wb') as f:\n",
    "    pickle.dump(model, f)"
   ]
  },
  {
   "cell_type": "code",
   "execution_count": null,
   "metadata": {},
   "outputs": [],
   "source": [
    "# prompt: map a predicted value with types of disorder and select top 3 for all rows\n",
    "\n",
    "predicted_disorders = model.predict(X_test)\n",
    "\n",
    "\n",
    "\n",
    "probability = model.predict_proba(X_test)\n",
    "\n",
    "  # Select top 3 predicted disorders for each row\n",
    "top_3_disorders = pd.DataFrame(columns=['Disorder_1', 'Probability_1', 'Disorder_2', 'Probability_2', 'Disorder_3', 'Probability_3'])\n",
    "\n",
    "for i in range(len(predicted_disorders)):\n",
    "    top_disorder_indices = np.argsort(probability[i])[::-1][:3]\n",
    "    top_disorders = [Disorders[idx] for idx in top_disorder_indices]\n",
    "    top_probs = probability[i][top_disorder_indices]\n",
    "    top_3_disorders.loc[i] = [\n",
    "        top_disorders[0], top_probs[0],\n",
    "        top_disorders[1], top_probs[1],\n",
    "        top_disorders[2], top_probs[2]\n",
    "    ]\n",
    "print(top_3_disorders)\n",
    "# Print the top 3 predicted disorders for all rows\n"
   ]
  },
  {
   "cell_type": "code",
   "execution_count": null,
   "metadata": {},
   "outputs": [],
   "source": [
    "from sklearn.tree import DecisionTreeClassifier\n",
    "from sklearn.metrics import accuracy_score\n",
    "\n",
    "# 1. Prepare data\n",
    "# Load your data into X and y variables\n",
    "\n",
    "# 2. Initialize the model\n",
    "my_model = DecisionTreeClassifier()\n",
    "\n",
    "# 3. Train the model\n",
    "my_model.fit(X_train, y_train)\n",
    "\n",
    "# 4. Make predictions\n",
    "y_pred = my_model.predict(X_test)\n",
    "\n",
    "# 5. Evaluate the model\n",
    "accuracy_dt = accuracy_score(y_test, y_pred)\n",
    "print(\"Accuracy:\", accuracy_dt)"
   ]
  },
  {
   "cell_type": "code",
   "execution_count": null,
   "metadata": {},
   "outputs": [],
   "source": [
    "# Import necessary libraries\n",
    "import pandas as pd\n",
    "from sklearn.model_selection import train_test_split\n",
    "from sklearn.metrics import accuracy_score\n",
    "from catboost import CatBoostClassifier\n",
    "import matplotlib.pyplot as plt\n",
    "\n",
    "# Assuming df is already loaded\n",
    "# df = pd.read_csv('your_file.csv')  # Example of loading a dataframe\n",
    "\n",
    "# Prepare the data\n",
    "X = df.iloc[:, 1:27]\n",
    "y = df['Disorder']\n",
    "\n",
    "# Split the data\n",
    "X_train, X_test, y_train, y_test = train_test_split(X, y, test_size=0.3, random_state=42)\n",
    "\n",
    "# Train CatBoost model\n",
    "catboost_model = CatBoostClassifier(verbose=0)  # verbose=0 to suppress output\n",
    "catboost_model.fit(X_train, y_train)\n",
    "\n",
    "# Predict and evaluate CatBoost model\n",
    "y_pred_catboost = catboost_model.predict(X_test)\n",
    "catboost_accuracy = accuracy_score(y_test, y_pred_catboost)\n",
    "print(f\"CatBoost Accuracy: {catboost_accuracy}\")\n",
    "\n",
    "\n",
    "# Plotting the accuracies\n",
    "models = ['CatBoost', 'XGBoost']\n",
    "accuracies = [catboost_accuracy, xgboost_accuracy]\n",
    "\n",
    "plt.figure(figsize=(8, 5))\n",
    "plt.bar(models, accuracies, color=['blue', 'green'])\n",
    "plt.xlabel('Model')\n",
    "plt.ylabel('Accuracy')\n",
    "plt.title('Model Accuracies')\n",
    "plt.ylim(0, 1)  # Assuming accuracies are between 0 and 1\n",
    "plt.show()"
   ]
  },
  {
   "cell_type": "code",
   "execution_count": null,
   "metadata": {},
   "outputs": [],
   "source": []
  },
  {
   "cell_type": "code",
   "execution_count": null,
   "metadata": {},
   "outputs": [],
   "source": []
  }
 ],
 "metadata": {
  "kernelspec": {
   "display_name": "base",
   "language": "python",
   "name": "python3"
  },
  "language_info": {
   "name": "python",
   "version": "3.12.4"
  }
 },
 "nbformat": 4,
 "nbformat_minor": 2
}
